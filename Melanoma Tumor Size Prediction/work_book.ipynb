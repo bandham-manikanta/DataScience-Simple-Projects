{
 "cells": [
  {
   "cell_type": "code",
   "execution_count": 1,
   "metadata": {},
   "outputs": [],
   "source": [
    "import pandas as pd\n",
    "\n",
    "import numpy as np\n",
    "\n",
    "import seaborn as sns\n",
    "\n",
    "from scipy import stats\n",
    "\n",
    "from matplotlib import pyplot as plt"
   ]
  },
  {
   "cell_type": "code",
   "execution_count": 2,
   "metadata": {},
   "outputs": [
    {
     "data": {
      "text/html": [
       "<div>\n",
       "<style scoped>\n",
       "    .dataframe tbody tr th:only-of-type {\n",
       "        vertical-align: middle;\n",
       "    }\n",
       "\n",
       "    .dataframe tbody tr th {\n",
       "        vertical-align: top;\n",
       "    }\n",
       "\n",
       "    .dataframe thead th {\n",
       "        text-align: right;\n",
       "    }\n",
       "</style>\n",
       "<table border=\"1\" class=\"dataframe\">\n",
       "  <thead>\n",
       "    <tr style=\"text-align: right;\">\n",
       "      <th></th>\n",
       "      <th>mass_npea</th>\n",
       "      <th>size_npear</th>\n",
       "      <th>malign_ratio</th>\n",
       "      <th>damage_size</th>\n",
       "      <th>exposed_area</th>\n",
       "      <th>std_dev_malign</th>\n",
       "      <th>err_malign</th>\n",
       "      <th>malign_penalty</th>\n",
       "      <th>damage_ratio</th>\n",
       "      <th>tumor_size</th>\n",
       "    </tr>\n",
       "  </thead>\n",
       "  <tbody>\n",
       "    <tr>\n",
       "      <th>0</th>\n",
       "      <td>6930.90</td>\n",
       "      <td>2919.02</td>\n",
       "      <td>0.42116</td>\n",
       "      <td>51.8298</td>\n",
       "      <td>9.888294e+05</td>\n",
       "      <td>109.487</td>\n",
       "      <td>2758.76</td>\n",
       "      <td>72</td>\n",
       "      <td>39.3620</td>\n",
       "      <td>14.103</td>\n",
       "    </tr>\n",
       "    <tr>\n",
       "      <th>1</th>\n",
       "      <td>15635.70</td>\n",
       "      <td>4879.36</td>\n",
       "      <td>0.31206</td>\n",
       "      <td>223.5500</td>\n",
       "      <td>2.058426e+06</td>\n",
       "      <td>248.881</td>\n",
       "      <td>5952.53</td>\n",
       "      <td>240</td>\n",
       "      <td>22.0253</td>\n",
       "      <td>2.648</td>\n",
       "    </tr>\n",
       "    <tr>\n",
       "      <th>2</th>\n",
       "      <td>10376.20</td>\n",
       "      <td>2613.88</td>\n",
       "      <td>0.25191</td>\n",
       "      <td>127.3370</td>\n",
       "      <td>1.434676e+06</td>\n",
       "      <td>160.093</td>\n",
       "      <td>4635.26</td>\n",
       "      <td>73</td>\n",
       "      <td>29.9963</td>\n",
       "      <td>1.688</td>\n",
       "    </tr>\n",
       "    <tr>\n",
       "      <th>3</th>\n",
       "      <td>13093.80</td>\n",
       "      <td>4510.06</td>\n",
       "      <td>0.34444</td>\n",
       "      <td>155.4400</td>\n",
       "      <td>1.812195e+06</td>\n",
       "      <td>173.015</td>\n",
       "      <td>5273.87</td>\n",
       "      <td>32</td>\n",
       "      <td>28.1354</td>\n",
       "      <td>3.796</td>\n",
       "    </tr>\n",
       "    <tr>\n",
       "      <th>4</th>\n",
       "      <td>7545.21</td>\n",
       "      <td>2882.36</td>\n",
       "      <td>0.38201</td>\n",
       "      <td>85.1237</td>\n",
       "      <td>1.043918e+06</td>\n",
       "      <td>124.414</td>\n",
       "      <td>3263.35</td>\n",
       "      <td>57</td>\n",
       "      <td>35.0200</td>\n",
       "      <td>18.023</td>\n",
       "    </tr>\n",
       "  </tbody>\n",
       "</table>\n",
       "</div>"
      ],
      "text/plain": [
       "   mass_npea  size_npear  malign_ratio  damage_size  exposed_area  \\\n",
       "0    6930.90     2919.02       0.42116      51.8298  9.888294e+05   \n",
       "1   15635.70     4879.36       0.31206     223.5500  2.058426e+06   \n",
       "2   10376.20     2613.88       0.25191     127.3370  1.434676e+06   \n",
       "3   13093.80     4510.06       0.34444     155.4400  1.812195e+06   \n",
       "4    7545.21     2882.36       0.38201      85.1237  1.043918e+06   \n",
       "\n",
       "   std_dev_malign  err_malign  malign_penalty  damage_ratio  tumor_size  \n",
       "0         109.487     2758.76              72       39.3620      14.103  \n",
       "1         248.881     5952.53             240       22.0253       2.648  \n",
       "2         160.093     4635.26              73       29.9963       1.688  \n",
       "3         173.015     5273.87              32       28.1354       3.796  \n",
       "4         124.414     3263.35              57       35.0200      18.023  "
      ]
     },
     "execution_count": 2,
     "metadata": {},
     "output_type": "execute_result"
    }
   ],
   "source": [
    "df_train = pd.read_csv('../DataSets/Participants_Data_melanoma/Train.csv')\n",
    "df_train.head()"
   ]
  },
  {
   "cell_type": "code",
   "execution_count": 3,
   "metadata": {},
   "outputs": [
    {
     "data": {
      "text/plain": [
       "False"
      ]
     },
     "execution_count": 3,
     "metadata": {},
     "output_type": "execute_result"
    }
   ],
   "source": [
    "df_train.isnull().any().any()"
   ]
  },
  {
   "cell_type": "code",
   "execution_count": 4,
   "metadata": {},
   "outputs": [
    {
     "data": {
      "text/plain": [
       "(9146, 10)"
      ]
     },
     "execution_count": 4,
     "metadata": {},
     "output_type": "execute_result"
    }
   ],
   "source": [
    "df_train.shape"
   ]
  },
  {
   "cell_type": "code",
   "execution_count": 5,
   "metadata": {},
   "outputs": [
    {
     "data": {
      "text/plain": [
       "mass_npea         float64\n",
       "size_npear        float64\n",
       "malign_ratio      float64\n",
       "damage_size       float64\n",
       "exposed_area      float64\n",
       "std_dev_malign    float64\n",
       "err_malign        float64\n",
       "malign_penalty      int64\n",
       "damage_ratio      float64\n",
       "tumor_size        float64\n",
       "dtype: object"
      ]
     },
     "execution_count": 5,
     "metadata": {},
     "output_type": "execute_result"
    }
   ],
   "source": [
    "df_train.dtypes"
   ]
  },
  {
   "cell_type": "code",
   "execution_count": 6,
   "metadata": {},
   "outputs": [
    {
     "name": "stdout",
     "output_type": "stream",
     "text": [
      "<class 'pandas.core.frame.DataFrame'>\n",
      "RangeIndex: 9146 entries, 0 to 9145\n",
      "Data columns (total 10 columns):\n",
      " #   Column          Non-Null Count  Dtype  \n",
      "---  ------          --------------  -----  \n",
      " 0   mass_npea       9146 non-null   float64\n",
      " 1   size_npear      9146 non-null   float64\n",
      " 2   malign_ratio    9146 non-null   float64\n",
      " 3   damage_size     9146 non-null   float64\n",
      " 4   exposed_area    9146 non-null   float64\n",
      " 5   std_dev_malign  9146 non-null   float64\n",
      " 6   err_malign      9146 non-null   float64\n",
      " 7   malign_penalty  9146 non-null   int64  \n",
      " 8   damage_ratio    9146 non-null   float64\n",
      " 9   tumor_size      9146 non-null   float64\n",
      "dtypes: float64(9), int64(1)\n",
      "memory usage: 714.7 KB\n"
     ]
    }
   ],
   "source": [
    "df_train.info()"
   ]
  },
  {
   "cell_type": "code",
   "execution_count": 7,
   "metadata": {},
   "outputs": [
    {
     "data": {
      "text/html": [
       "<div>\n",
       "<style scoped>\n",
       "    .dataframe tbody tr th:only-of-type {\n",
       "        vertical-align: middle;\n",
       "    }\n",
       "\n",
       "    .dataframe tbody tr th {\n",
       "        vertical-align: top;\n",
       "    }\n",
       "\n",
       "    .dataframe thead th {\n",
       "        text-align: right;\n",
       "    }\n",
       "</style>\n",
       "<table border=\"1\" class=\"dataframe\">\n",
       "  <thead>\n",
       "    <tr style=\"text-align: right;\">\n",
       "      <th></th>\n",
       "      <th>mass_npea</th>\n",
       "      <th>size_npear</th>\n",
       "      <th>malign_ratio</th>\n",
       "      <th>damage_size</th>\n",
       "      <th>exposed_area</th>\n",
       "      <th>std_dev_malign</th>\n",
       "      <th>err_malign</th>\n",
       "      <th>malign_penalty</th>\n",
       "      <th>damage_ratio</th>\n",
       "      <th>tumor_size</th>\n",
       "    </tr>\n",
       "  </thead>\n",
       "  <tbody>\n",
       "    <tr>\n",
       "      <th>count</th>\n",
       "      <td>9146.000000</td>\n",
       "      <td>9146.000000</td>\n",
       "      <td>9146.000000</td>\n",
       "      <td>9146.000000</td>\n",
       "      <td>9.146000e+03</td>\n",
       "      <td>9146.000000</td>\n",
       "      <td>9146.000000</td>\n",
       "      <td>9146.000000</td>\n",
       "      <td>9146.000000</td>\n",
       "      <td>9146.000000</td>\n",
       "    </tr>\n",
       "    <tr>\n",
       "      <th>mean</th>\n",
       "      <td>9903.052174</td>\n",
       "      <td>3032.827837</td>\n",
       "      <td>0.303083</td>\n",
       "      <td>103.902118</td>\n",
       "      <td>1.372442e+06</td>\n",
       "      <td>146.304239</td>\n",
       "      <td>3992.936256</td>\n",
       "      <td>69.849661</td>\n",
       "      <td>34.461652</td>\n",
       "      <td>7.723348</td>\n",
       "    </tr>\n",
       "    <tr>\n",
       "      <th>std</th>\n",
       "      <td>4060.577116</td>\n",
       "      <td>1462.334147</td>\n",
       "      <td>0.062533</td>\n",
       "      <td>55.456862</td>\n",
       "      <td>5.646773e+05</td>\n",
       "      <td>70.512177</td>\n",
       "      <td>1780.672859</td>\n",
       "      <td>55.785332</td>\n",
       "      <td>5.972808</td>\n",
       "      <td>6.086852</td>\n",
       "    </tr>\n",
       "    <tr>\n",
       "      <th>min</th>\n",
       "      <td>2864.760000</td>\n",
       "      <td>510.530000</td>\n",
       "      <td>0.114820</td>\n",
       "      <td>10.310100</td>\n",
       "      <td>3.878534e+05</td>\n",
       "      <td>31.970400</td>\n",
       "      <td>1089.190000</td>\n",
       "      <td>0.000000</td>\n",
       "      <td>15.228000</td>\n",
       "      <td>0.000000</td>\n",
       "    </tr>\n",
       "    <tr>\n",
       "      <th>25%</th>\n",
       "      <td>6988.420000</td>\n",
       "      <td>1983.657500</td>\n",
       "      <td>0.259053</td>\n",
       "      <td>64.012525</td>\n",
       "      <td>9.596873e+05</td>\n",
       "      <td>95.853900</td>\n",
       "      <td>3177.682500</td>\n",
       "      <td>31.000000</td>\n",
       "      <td>30.290225</td>\n",
       "      <td>2.320000</td>\n",
       "    </tr>\n",
       "    <tr>\n",
       "      <th>50%</th>\n",
       "      <td>8895.965000</td>\n",
       "      <td>2684.330000</td>\n",
       "      <td>0.301055</td>\n",
       "      <td>88.458300</td>\n",
       "      <td>1.237057e+06</td>\n",
       "      <td>126.138500</td>\n",
       "      <td>3846.320000</td>\n",
       "      <td>54.000000</td>\n",
       "      <td>35.245750</td>\n",
       "      <td>5.060500</td>\n",
       "    </tr>\n",
       "    <tr>\n",
       "      <th>75%</th>\n",
       "      <td>12119.950000</td>\n",
       "      <td>3830.745000</td>\n",
       "      <td>0.343002</td>\n",
       "      <td>134.209000</td>\n",
       "      <td>1.693083e+06</td>\n",
       "      <td>182.251500</td>\n",
       "      <td>4664.577500</td>\n",
       "      <td>91.000000</td>\n",
       "      <td>38.806075</td>\n",
       "      <td>13.336000</td>\n",
       "    </tr>\n",
       "    <tr>\n",
       "      <th>max</th>\n",
       "      <td>36995.400000</td>\n",
       "      <td>13535.000000</td>\n",
       "      <td>0.525300</td>\n",
       "      <td>346.420000</td>\n",
       "      <td>4.978616e+06</td>\n",
       "      <td>528.890000</td>\n",
       "      <td>91983.700000</td>\n",
       "      <td>340.000000</td>\n",
       "      <td>46.546400</td>\n",
       "      <td>20.999000</td>\n",
       "    </tr>\n",
       "  </tbody>\n",
       "</table>\n",
       "</div>"
      ],
      "text/plain": [
       "          mass_npea    size_npear  malign_ratio  damage_size  exposed_area  \\\n",
       "count   9146.000000   9146.000000   9146.000000  9146.000000  9.146000e+03   \n",
       "mean    9903.052174   3032.827837      0.303083   103.902118  1.372442e+06   \n",
       "std     4060.577116   1462.334147      0.062533    55.456862  5.646773e+05   \n",
       "min     2864.760000    510.530000      0.114820    10.310100  3.878534e+05   \n",
       "25%     6988.420000   1983.657500      0.259053    64.012525  9.596873e+05   \n",
       "50%     8895.965000   2684.330000      0.301055    88.458300  1.237057e+06   \n",
       "75%    12119.950000   3830.745000      0.343002   134.209000  1.693083e+06   \n",
       "max    36995.400000  13535.000000      0.525300   346.420000  4.978616e+06   \n",
       "\n",
       "       std_dev_malign    err_malign  malign_penalty  damage_ratio   tumor_size  \n",
       "count     9146.000000   9146.000000     9146.000000   9146.000000  9146.000000  \n",
       "mean       146.304239   3992.936256       69.849661     34.461652     7.723348  \n",
       "std         70.512177   1780.672859       55.785332      5.972808     6.086852  \n",
       "min         31.970400   1089.190000        0.000000     15.228000     0.000000  \n",
       "25%         95.853900   3177.682500       31.000000     30.290225     2.320000  \n",
       "50%        126.138500   3846.320000       54.000000     35.245750     5.060500  \n",
       "75%        182.251500   4664.577500       91.000000     38.806075    13.336000  \n",
       "max        528.890000  91983.700000      340.000000     46.546400    20.999000  "
      ]
     },
     "execution_count": 7,
     "metadata": {},
     "output_type": "execute_result"
    }
   ],
   "source": [
    "df_train.describe()"
   ]
  },
  {
   "cell_type": "code",
   "execution_count": 8,
   "metadata": {},
   "outputs": [
    {
     "name": "stdout",
     "output_type": "stream",
     "text": [
      "[[0.73199316 0.07783041 1.88834184 ... 0.03854878 0.82048778 1.04816087]\n",
      " [1.41185873 1.26279833 0.14356616 ... 3.05025773 2.08227551 0.83386705]\n",
      " [0.11652868 0.28650821 0.81837936 ... 0.05647562 0.74765438 0.99159266]\n",
      " ...\n",
      " [0.44748602 0.96507012 1.63991123 ... 1.01913472 0.03143617 0.94509647]\n",
      " [1.11218051 2.28474787 2.22210415 ... 0.55303691 0.02123876 1.64718957]\n",
      " [0.75127472 0.99038036 1.14894319 ... 0.75023214 0.57467706 1.04816087]]\n"
     ]
    }
   ],
   "source": [
    "z = np.abs(stats.zscore(df_train))\n",
    "print(z)"
   ]
  },
  {
   "cell_type": "code",
   "execution_count": 9,
   "metadata": {},
   "outputs": [
    {
     "data": {
      "text/plain": [
       "(9146, 10)"
      ]
     },
     "execution_count": 9,
     "metadata": {},
     "output_type": "execute_result"
    }
   ],
   "source": [
    "z.shape"
   ]
  },
  {
   "cell_type": "code",
   "execution_count": 10,
   "metadata": {},
   "outputs": [
    {
     "data": {
      "text/plain": [
       "(9146, 10)"
      ]
     },
     "execution_count": 10,
     "metadata": {},
     "output_type": "execute_result"
    }
   ],
   "source": [
    "df_train.shape"
   ]
  },
  {
   "cell_type": "code",
   "execution_count": 11,
   "metadata": {},
   "outputs": [
    {
     "name": "stdout",
     "output_type": "stream",
     "text": [
      "(array([   1,    7,   74,   74,   74,   74,   81,   90,   90,   90,   90,\n",
      "         90,  149,  149,  149,  149,  154,  154,  154,  165,  188,  188,\n",
      "        188,  201,  208,  280,  288,  288,  288,  288,  303,  331,  331,\n",
      "        347,  360,  360,  384,  416,  467,  468,  475,  475,  475,  475,\n",
      "        481,  481,  483,  497,  497,  497,  513,  518,  518,  529,  529,\n",
      "        529,  529,  529,  535,  535,  554,  554,  554,  557,  557,  557,\n",
      "        557,  581,  581,  591,  620,  635,  635,  635,  635,  650,  730,\n",
      "        730,  738,  738,  744,  773,  788,  788,  797,  800,  800,  800,\n",
      "        800,  800,  800,  813,  814,  913,  915, 1014, 1014, 1050, 1059,\n",
      "       1151, 1158, 1158, 1158, 1158, 1158, 1177, 1210, 1213, 1231, 1263,\n",
      "       1268, 1268, 1268, 1268, 1276, 1328, 1328, 1328, 1355, 1358, 1358,\n",
      "       1358, 1358, 1358, 1365, 1370, 1370, 1370, 1370, 1398, 1403, 1409,\n",
      "       1409, 1409, 1409, 1411, 1411, 1446, 1449, 1454, 1457, 1457, 1461,\n",
      "       1487, 1487, 1487, 1612, 1615, 1616, 1616, 1623, 1654, 1688, 1705,\n",
      "       1754, 1782, 1782, 1782, 1782, 1829, 1852, 1856, 1861, 1870, 1870,\n",
      "       1880, 1886, 1895, 1972, 1972, 1972, 1972, 2020, 2020, 2020, 2020,\n",
      "       2037, 2037, 2037, 2037, 2078, 2109, 2119, 2119, 2131, 2131, 2131,\n",
      "       2142, 2142, 2210, 2235, 2339, 2339, 2339, 2341, 2398, 2413, 2430,\n",
      "       2464, 2471, 2471, 2481, 2481, 2481, 2498, 2498, 2498, 2498, 2498,\n",
      "       2518, 2518, 2529, 2569, 2605, 2605, 2605, 2630, 2639, 2639, 2646,\n",
      "       2646, 2658, 2659, 2659, 2659, 2659, 2661, 2661, 2663, 2663, 2718,\n",
      "       2718, 2718, 2718, 2718, 2735, 2735, 2735, 2735, 2751, 2751, 2751,\n",
      "       2751, 2756, 2766, 2769, 2779, 2784, 2785, 2801, 2801, 2801, 2801,\n",
      "       2801, 2817, 2831, 2859, 2874, 2874, 2874, 2874, 2878, 2878, 2878,\n",
      "       2878, 2879, 2889, 2889, 2889, 2899, 2914, 2933, 2981, 2981, 2992,\n",
      "       2994, 2994, 2994, 2994, 2994, 2998, 3000, 3000, 3031, 3043, 3043,\n",
      "       3043, 3043, 3107, 3118, 3157, 3157, 3185, 3185, 3185, 3185, 3213,\n",
      "       3213, 3213, 3213, 3213, 3219, 3226, 3226, 3252, 3252, 3252, 3252,\n",
      "       3252, 3282, 3329, 3329, 3329, 3329, 3342, 3345, 3345, 3345, 3345,\n",
      "       3364, 3368, 3368, 3368, 3368, 3436, 3455, 3455, 3455, 3455, 3480,\n",
      "       3541, 3579, 3614, 3614, 3614, 3614, 3636, 3645, 3645, 3645, 3645,\n",
      "       3683, 3683, 3683, 3683, 3683, 3696, 3703, 3713, 3713, 3726, 3733,\n",
      "       3733, 3736, 3736, 3736, 3736, 3747, 3747, 3747, 3747, 3772, 3772,\n",
      "       3772, 3772, 3772, 3814, 3814, 3814, 3814, 3850, 3850, 3850, 3850,\n",
      "       3879, 3993, 4010, 4013, 4061, 4061, 4061, 4061, 4073, 4073, 4118,\n",
      "       4118, 4118, 4118, 4148, 4150, 4150, 4187, 4231, 4274, 4305, 4305,\n",
      "       4305, 4305, 4332, 4332, 4344, 4344, 4344, 4344, 4385, 4404, 4408,\n",
      "       4411, 4411, 4411, 4433, 4433, 4433, 4442, 4471, 4478, 4484, 4484,\n",
      "       4484, 4484, 4487, 4507, 4530, 4549, 4600, 4603, 4641, 4641, 4641,\n",
      "       4641, 4668, 4668, 4671, 4687, 4712, 4740, 4740, 4740, 4740, 4777,\n",
      "       4788, 4854, 4861, 4861, 4861, 4946, 4946, 4978, 4978, 5020, 5051,\n",
      "       5083, 5095, 5095, 5095, 5139, 5211, 5211, 5211, 5211, 5377, 5377,\n",
      "       5377, 5380, 5386, 5386, 5386, 5386, 5395, 5395, 5395, 5395, 5395,\n",
      "       5423, 5464, 5530, 5530, 5533, 5533, 5533, 5533, 5533, 5534, 5576,\n",
      "       5579, 5579, 5579, 5581, 5608, 5608, 5630, 5685, 5687, 5687, 5687,\n",
      "       5687, 5687, 5688, 5688, 5688, 5688, 5688, 5779, 5779, 5779, 5779,\n",
      "       5791, 5804, 5813, 5813, 5853, 5853, 5853, 5853, 5931, 5957, 5978,\n",
      "       5989, 5989, 6004, 6015, 6058, 6058, 6058, 6058, 6060, 6065, 6128,\n",
      "       6137, 6137, 6137, 6143, 6157, 6157, 6157, 6157, 6204, 6204, 6211,\n",
      "       6211, 6211, 6211, 6211, 6225, 6247, 6247, 6247, 6247, 6247, 6270,\n",
      "       6293, 6312, 6312, 6312, 6317, 6317, 6317, 6317, 6322, 6322, 6322,\n",
      "       6322, 6322, 6322, 6362, 6362, 6397, 6415, 6415, 6415, 6415, 6432,\n",
      "       6432, 6432, 6454, 6454, 6454, 6474, 6502, 6548, 6548, 6578, 6616,\n",
      "       6616, 6627, 6636, 6643, 6673, 6677, 6713, 6713, 6713, 6713, 6713,\n",
      "       6713, 6729, 6730, 6745, 6745, 6745, 6752, 6756, 6770, 6770, 6770,\n",
      "       6777, 6803, 6835, 6846, 6876, 6876, 6876, 6876, 6896, 6918, 6941,\n",
      "       6947, 6947, 6947, 6947, 6975, 6975, 6975, 6975, 6985, 7022, 7022,\n",
      "       7022, 7022, 7058, 7058, 7058, 7058, 7059, 7059, 7059, 7059, 7116,\n",
      "       7116, 7116, 7116, 7133, 7145, 7145, 7145, 7145, 7162, 7171, 7171,\n",
      "       7171, 7195, 7195, 7195, 7224, 7243, 7247, 7247, 7247, 7287, 7287,\n",
      "       7287, 7287, 7308, 7310, 7310, 7347, 7360, 7360, 7371, 7384, 7408,\n",
      "       7408, 7410, 7411, 7463, 7463, 7463, 7463, 7469, 7488, 7488, 7493,\n",
      "       7493, 7517, 7542, 7542, 7542, 7542, 7542, 7559, 7595, 7595, 7595,\n",
      "       7613, 7666, 7682, 7691, 7691, 7716, 7731, 7731, 7731, 7731, 7731,\n",
      "       7739, 7743, 7743, 7743, 7778, 7780, 7780, 7780, 7784, 7784, 7784,\n",
      "       7839, 7839, 7839, 7839, 7839, 7839, 7847, 7847, 7847, 7847, 7853,\n",
      "       7853, 7853, 7853, 7875, 7896, 7907, 7907, 7907, 7907, 7971, 7971,\n",
      "       7971, 7971, 7980, 7980, 7980, 7980, 7980, 7991, 7991, 7991, 7991,\n",
      "       8100, 8108, 8114, 8114, 8114, 8114, 8114, 8121, 8160, 8173, 8178,\n",
      "       8194, 8240, 8240, 8247, 8265, 8284, 8284, 8284, 8300, 8325, 8325,\n",
      "       8340, 8360, 8360, 8360, 8369, 8396, 8427, 8427, 8442, 8463, 8469,\n",
      "       8532, 8578, 8581, 8583, 8596, 8596, 8596, 8596, 8600, 8600, 8600,\n",
      "       8600, 8600, 8601, 8645, 8664, 8664, 8676, 8676, 8676, 8676, 8690,\n",
      "       8690, 8690, 8690, 8704, 8737, 8753, 8756, 8771, 8819, 8877, 8881,\n",
      "       9047, 9068, 9115, 9115, 9115, 9115, 9115, 9132, 9132, 9132, 9132,\n",
      "       9144], dtype=int64), array([7, 7, 0, 3, 4, 5, 7, 0, 1, 3, 4, 5, 0, 1, 4, 6, 0, 1, 4, 6, 0, 1,\n",
      "       4, 6, 7, 2, 0, 3, 4, 5, 7, 3, 5, 1, 3, 7, 1, 7, 1, 1, 0, 3, 4, 5,\n",
      "       3, 7, 6, 1, 4, 6, 1, 5, 7, 0, 1, 3, 4, 5, 3, 7, 0, 3, 5, 0, 3, 4,\n",
      "       5, 3, 7, 7, 7, 0, 3, 4, 5, 7, 1, 6, 3, 7, 7, 7, 3, 7, 6, 0, 1, 3,\n",
      "       4, 5, 7, 2, 6, 2, 7, 1, 5, 7, 1, 6, 0, 1, 4, 5, 6, 1, 7, 7, 7, 2,\n",
      "       0, 3, 4, 5, 7, 0, 1, 4, 7, 0, 1, 4, 5, 6, 1, 0, 3, 4, 5, 7, 5, 0,\n",
      "       3, 4, 5, 3, 7, 7, 7, 7, 3, 7, 6, 0, 4, 7, 6, 7, 1, 5, 7, 1, 6, 1,\n",
      "       7, 0, 1, 4, 5, 2, 2, 7, 7, 3, 7, 6, 6, 7, 0, 3, 4, 5, 0, 1, 4, 6,\n",
      "       0, 3, 4, 5, 6, 7, 3, 7, 0, 1, 6, 3, 7, 6, 7, 0, 3, 4, 7, 2, 7, 7,\n",
      "       7, 1, 2, 0, 1, 4, 0, 1, 4, 5, 7, 3, 7, 7, 7, 0, 4, 7, 6, 4, 7, 3,\n",
      "       5, 1, 0, 1, 3, 4, 3, 7, 3, 7, 0, 1, 3, 4, 5, 0, 1, 4, 6, 0, 1, 4,\n",
      "       5, 1, 1, 1, 7, 7, 4, 0, 1, 3, 4, 5, 7, 7, 7, 0, 3, 4, 5, 0, 3, 4,\n",
      "       5, 7, 0, 1, 4, 7, 1, 7, 1, 5, 7, 0, 3, 4, 5, 8, 7, 1, 6, 7, 0, 3,\n",
      "       4, 5, 7, 7, 3, 5, 0, 3, 4, 5, 0, 1, 3, 4, 5, 7, 1, 6, 0, 1, 4, 5,\n",
      "       6, 2, 0, 3, 4, 5, 7, 0, 3, 4, 5, 7, 0, 3, 4, 5, 7, 0, 3, 4, 5, 2,\n",
      "       7, 7, 0, 3, 4, 5, 6, 0, 1, 3, 4, 0, 1, 4, 5, 6, 6, 7, 1, 6, 7, 0,\n",
      "       4, 0, 3, 4, 5, 0, 3, 4, 5, 0, 1, 4, 5, 6, 0, 1, 4, 7, 0, 3, 4, 5,\n",
      "       7, 4, 3, 2, 0, 3, 4, 5, 1, 5, 0, 3, 4, 5, 7, 3, 7, 7, 7, 6, 0, 3,\n",
      "       4, 5, 1, 6, 0, 3, 4, 5, 7, 7, 5, 0, 1, 4, 1, 5, 6, 7, 2, 6, 0, 3,\n",
      "       4, 5, 6, 6, 6, 2, 7, 7, 0, 1, 4, 6, 3, 5, 7, 6, 7, 0, 3, 4, 5, 6,\n",
      "       7, 7, 0, 3, 5, 3, 5, 0, 4, 1, 7, 7, 0, 1, 6, 2, 0, 3, 4, 5, 0, 3,\n",
      "       4, 7, 0, 1, 4, 5, 0, 1, 4, 5, 6, 7, 7, 3, 7, 0, 1, 3, 4, 5, 7, 2,\n",
      "       0, 1, 5, 7, 3, 7, 7, 2, 0, 1, 3, 4, 5, 0, 1, 4, 5, 7, 0, 3, 4, 5,\n",
      "       7, 7, 0, 4, 3, 4, 5, 8, 7, 7, 7, 3, 7, 2, 1, 0, 3, 4, 5, 6, 7, 7,\n",
      "       1, 5, 6, 7, 0, 3, 4, 5, 3, 7, 0, 1, 4, 5, 7, 6, 0, 3, 4, 5, 8, 7,\n",
      "       7, 1, 6, 7, 0, 3, 4, 5, 0, 1, 3, 4, 5, 8, 3, 5, 7, 0, 1, 4, 5, 0,\n",
      "       1, 4, 0, 1, 4, 7, 6, 3, 5, 6, 3, 5, 1, 7, 7, 7, 7, 0, 1, 4, 5, 6,\n",
      "       7, 7, 7, 0, 1, 4, 2, 7, 1, 5, 6, 7, 7, 7, 7, 0, 1, 4, 5, 7, 2, 7,\n",
      "       0, 3, 4, 5, 0, 1, 4, 5, 7, 0, 3, 4, 5, 1, 4, 5, 6, 0, 3, 4, 5, 0,\n",
      "       1, 4, 5, 7, 0, 3, 4, 5, 7, 0, 3, 5, 0, 1, 4, 6, 7, 0, 3, 4, 0, 3,\n",
      "       4, 5, 7, 3, 5, 7, 3, 7, 1, 7, 3, 7, 1, 7, 0, 3, 4, 5, 7, 3, 5, 1,\n",
      "       6, 7, 0, 1, 4, 5, 6, 7, 1, 5, 7, 6, 2, 7, 0, 7, 6, 0, 1, 4, 5, 6,\n",
      "       6, 0, 1, 4, 7, 0, 1, 4, 0, 1, 4, 0, 1, 3, 4, 5, 7, 0, 1, 4, 5, 0,\n",
      "       3, 4, 5, 7, 7, 0, 3, 4, 5, 0, 3, 4, 5, 0, 1, 3, 4, 5, 0, 3, 4, 5,\n",
      "       7, 7, 0, 1, 3, 4, 5, 7, 6, 7, 7, 7, 1, 6, 7, 2, 1, 5, 6, 4, 5, 7,\n",
      "       5, 1, 5, 6, 7, 7, 0, 4, 7, 7, 2, 1, 7, 7, 2, 0, 3, 4, 5, 0, 1, 4,\n",
      "       5, 6, 7, 7, 3, 5, 0, 3, 4, 5, 0, 3, 4, 5, 6, 7, 7, 6, 2, 7, 1, 7,\n",
      "       7, 7, 0, 1, 3, 4, 5, 0, 3, 4, 5, 6], dtype=int64))\n"
     ]
    }
   ],
   "source": [
    "threshold = 3\n",
    "print(np.where(z > 3))"
   ]
  },
  {
   "cell_type": "code",
   "execution_count": 12,
   "metadata": {},
   "outputs": [
    {
     "data": {
      "text/plain": [
       "(8744, 10)"
      ]
     },
     "execution_count": 12,
     "metadata": {},
     "output_type": "execute_result"
    }
   ],
   "source": [
    "df_train_o = df_train[(z < 3).all(axis=1)]\n",
    "df_train_o.shape"
   ]
  },
  {
   "cell_type": "code",
   "execution_count": 13,
   "metadata": {},
   "outputs": [
    {
     "data": {
      "text/plain": [
       "(9146, 10)"
      ]
     },
     "execution_count": 13,
     "metadata": {},
     "output_type": "execute_result"
    }
   ],
   "source": [
    "df_train.shape"
   ]
  },
  {
   "cell_type": "code",
   "execution_count": null,
   "metadata": {},
   "outputs": [],
   "source": []
  },
  {
   "cell_type": "code",
   "execution_count": 14,
   "metadata": {},
   "outputs": [
    {
     "data": {
      "text/plain": [
       "mass_npea         0.010961\n",
       "size_npear        0.186777\n",
       "malign_ratio      0.364242\n",
       "damage_size      -0.150226\n",
       "exposed_area      0.010937\n",
       "std_dev_malign   -0.016487\n",
       "err_malign        0.017824\n",
       "malign_penalty    0.058239\n",
       "damage_ratio      0.038393\n",
       "tumor_size        1.000000\n",
       "Name: tumor_size, dtype: float64"
      ]
     },
     "execution_count": 14,
     "metadata": {},
     "output_type": "execute_result"
    }
   ],
   "source": [
    "correlations = df_train_o[df_train_o.columns].corr()\n",
    "correlations['tumor_size']"
   ]
  },
  {
   "cell_type": "code",
   "execution_count": null,
   "metadata": {},
   "outputs": [],
   "source": [
    "fig,ax = plt.subplots(figsize=(10,10))\n",
    "sns.heatmap(correlations, vmax=1.0, center=0, fmt='.2f',\n",
    "            square=True, linewidths=.5, annot=True, cbar_kws={\"shrink\": .70})\n",
    "plt.show()"
   ]
  },
  {
   "cell_type": "code",
   "execution_count": null,
   "metadata": {},
   "outputs": [],
   "source": [
    "Q1 = df_train.quantile(0.25)\n",
    "Q3 = df_train.quantile(0.75)\n",
    "IQR = Q3 - Q1\n",
    "print(IQR)\n",
    "\n",
    "boston_df_out = df_train[~((df_train < (Q1 - 1.5 * IQR)) |(df_train > (Q3 + 1.5 * IQR))).any(axis=1)]\n",
    "boston_df_out.shape"
   ]
  },
  {
   "cell_type": "code",
   "execution_count": null,
   "metadata": {},
   "outputs": [],
   "source": [
    "correlations = boston_df_out[boston_df_out.columns].corr()\n",
    "fig,ax = plt.subplots(figsize=(10,10))\n",
    "sns.heatmap(correlations, vmax=1.0, center=0, fmt='.2f',\n",
    "            square=True, linewidths=.5, annot=True, cbar_kws={\"shrink\": .70})\n",
    "plt.show()"
   ]
  },
  {
   "cell_type": "code",
   "execution_count": null,
   "metadata": {},
   "outputs": [],
   "source": [
    "def plot_single_box_plot(feature_name):\n",
    "    fig, ax = plt.subplots(figsize=(15,7))\n",
    "    sns.boxplot(x=feature_name)\n",
    "plot_single_box_plot(boston_df_out['size_npear'])"
   ]
  },
  {
   "cell_type": "code",
   "execution_count": null,
   "metadata": {},
   "outputs": [],
   "source": []
  },
  {
   "cell_type": "code",
   "execution_count": null,
   "metadata": {},
   "outputs": [],
   "source": [
    "boston_df_out.shape"
   ]
  },
  {
   "cell_type": "code",
   "execution_count": null,
   "metadata": {},
   "outputs": [],
   "source": [
    "from sklearn.model_selection import GridSearchCV\n",
    "from xgboost.sklearn import XGBRegressor\n",
    "\n",
    "from sklearn.model_selection import train_test_split\n",
    "\n",
    "X = boston_df_out.drop('tumor_size', axis='columns')\n",
    "y = boston_df_out.tumor_size\n",
    "\n",
    "X_train, X_test, y_train, y_test = train_test_split(X, y, test_size=0.2, random_state=1)\n",
    "\n",
    "from sklearn.preprocessing import StandardScaler, MinMaxScaler\n",
    "\n",
    "X_train = MinMaxScaler().fit_transform(X_train)\n",
    "#y_train_sc = StandardScaler().fit_transform(y_train)\n",
    "\n",
    "X_test = MinMaxScaler().fit_transform(X_test)\n",
    "#y_test_sc = StandardScaler().fit_transform(y_test)\n",
    "\n",
    "parameters = {'nthread':[4, 8, 1], #when use hyperthread, xgboost may become slower\n",
    "              'objective':['reg:linear', 'reg:squarederror'],\n",
    "              'learning_rate': [0.01, 0.03, 0.05, .07, 0.1, 0.15, 0.2], #so called `eta` value\n",
    "              #'max_depth': [5, 6, 7],\n",
    "              #'min_child_weight': [4],\n",
    "              'subsample': [0.5, 0.7, 0.9],\n",
    "              'colsample_bytree': [0.5, 0.7, 0.9],\n",
    "              'n_estimators': [500, 100, 200]}\n",
    "#xgb_grid = GridSearchCV(XGBRegressor(), parameters, cv = 5, n_jobs = 5, verbose=1)\n",
    "#xgb_grid.fit(X_train,y_train)"
   ]
  },
  {
   "cell_type": "code",
   "execution_count": null,
   "metadata": {},
   "outputs": [],
   "source": [
    "from sklearn.metrics import mean_squared_error\n",
    "from math import sqrt\n",
    "\n",
    "xgb = XGBRegressor()\n",
    "xgb.fit(X_train, y_train)\n",
    "y_pred = xgb.predict(X_test)\n",
    "\n",
    "rms = sqrt(mean_squared_error(y_test, y_pred))\n",
    "print('The rmse of XGB model:test ->', rms)\n",
    "\n",
    "y_pred_train = xgb.predict(X_train)\n",
    "rms_train = sqrt(mean_squared_error(y_train, y_pred_train))\n",
    "print('The rmse of XGB model:train ->', rms_train)"
   ]
  },
  {
   "cell_type": "code",
   "execution_count": null,
   "metadata": {},
   "outputs": [],
   "source": [
    "# Linear regression\n",
    "\n",
    "from sklearn.linear_model import LinearRegression\n",
    "\n",
    "lreg = LinearRegression()\n",
    "lreg.fit(X_train, y_train)\n",
    "y_pred = lreg.predict(X_test)\n",
    "\n",
    "rms = sqrt(mean_squared_error(y_test, y_pred))\n",
    "print('The rmse of LinearReg model:test ->', rms)\n",
    "\n",
    "\n",
    "y_pred_train = lreg.predict(X_train)\n",
    "rms_train = sqrt(mean_squared_error(y_train, y_pred_train))\n",
    "print('The rmse of LinearReg model:train ->', rms_train)"
   ]
  },
  {
   "cell_type": "code",
   "execution_count": null,
   "metadata": {},
   "outputs": [],
   "source": [
    "# Support vector machine\n",
    "\n",
    "from sklearn.svm import SVR\n",
    "\n",
    "svr = SVR(kernel = 'rbf')\n",
    "svr.fit(X_train, y_train)\n",
    "y_pred = svr.predict(X_test)\n",
    "\n",
    "rms = sqrt(mean_squared_error(y_test, y_pred))\n",
    "print('The rmse of Support vector Regressor model:test ->', rms)\n",
    "\n",
    "y_pred_train = svr.predict(X_train)\n",
    "rms_train = sqrt(mean_squared_error(y_train, y_pred_train))\n",
    "print('The rmse of Support vector Regressor model:train ->', rms_train)"
   ]
  },
  {
   "cell_type": "code",
   "execution_count": null,
   "metadata": {},
   "outputs": [],
   "source": [
    "# Random Forest\n",
    "\n",
    "from sklearn.ensemble import RandomForestRegressor\n",
    "\n",
    "rfr = RandomForestRegressor()\n",
    "rfr.fit(X_train, y_train)\n",
    "y_pred = rfr.predict(X_test)\n",
    "\n",
    "rms = sqrt(mean_squared_error(y_test, y_pred))\n",
    "print('The rmse of Random forest Regressor model:test ->', rms)\n",
    "\n",
    "y_pred_train = rfr.predict(X_train)\n",
    "rms_train = sqrt(mean_squared_error(y_train, y_pred_train))\n",
    "print('The rmse of Random forest Regressor model:train ->', rms_train)"
   ]
  },
  {
   "cell_type": "code",
   "execution_count": null,
   "metadata": {},
   "outputs": [],
   "source": [
    "\n",
    "# SVR perfromed well here.\n",
    "    # Saving it to file.\n",
    "    \n",
    "import pickle as pkl\n",
    "\n",
    "saved_model_file_name = 'MelonomaPredictor.pkl'\n",
    "pkl.dump(svr, open(saved_model_file_name, 'wb'))\n",
    "\n",
    "loaded_model = pkl.load(open(saved_model_file_name, 'rb'))\n",
    "loaded_model.predict(X_test)"
   ]
  },
  {
   "cell_type": "code",
   "execution_count": null,
   "metadata": {},
   "outputs": [],
   "source": [
    "df_test = pd.read_csv('../DataSets/Participants_Data_melanoma/Test.csv')\n",
    "df_test.head()"
   ]
  },
  {
   "cell_type": "code",
   "execution_count": null,
   "metadata": {},
   "outputs": [],
   "source": [
    "df_test = MinMaxScaler().fit_transform(df_test)\n",
    "df_test[0]"
   ]
  },
  {
   "cell_type": "code",
   "execution_count": null,
   "metadata": {},
   "outputs": [],
   "source": [
    "y_pred_sub = loaded_model.predict(df_test)\n",
    "y_pred_sub"
   ]
  },
  {
   "cell_type": "code",
   "execution_count": null,
   "metadata": {},
   "outputs": [],
   "source": [
    "df_sub = pd.DataFrame({'tumor_size': y_pred_sub})\n",
    "df_sub.to_csv('sub_df.csv', index=False)"
   ]
  },
  {
   "cell_type": "code",
   "execution_count": null,
   "metadata": {},
   "outputs": [],
   "source": []
  }
 ],
 "metadata": {
  "kernelspec": {
   "display_name": "Python 3",
   "language": "python",
   "name": "python3"
  },
  "language_info": {
   "codemirror_mode": {
    "name": "ipython",
    "version": 3
   },
   "file_extension": ".py",
   "mimetype": "text/x-python",
   "name": "python",
   "nbconvert_exporter": "python",
   "pygments_lexer": "ipython3",
   "version": "3.7.7"
  }
 },
 "nbformat": 4,
 "nbformat_minor": 4
}
